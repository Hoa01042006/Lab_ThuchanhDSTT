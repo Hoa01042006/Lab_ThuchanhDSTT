{
  "nbformat": 4,
  "nbformat_minor": 0,
  "metadata": {
    "colab": {
      "provenance": []
    },
    "kernelspec": {
      "name": "python3",
      "display_name": "Python 3"
    },
    "language_info": {
      "name": "python"
    }
  },
  "cells": [
    {
      "cell_type": "code",
      "execution_count": 2,
      "metadata": {
        "colab": {
          "base_uri": "https://localhost:8080/"
        },
        "id": "ZwZjoYs2D6BH",
        "outputId": "fada2789-cf80-4b42-c92c-672f779610e4"
      },
      "outputs": [
        {
          "output_type": "stream",
          "name": "stdout",
          "text": [
            "a) A + B = [3 3 1 5]\n",
            "   3A - 2B = [  4 -11  13 -10]\n",
            "\n",
            "b) A · B = -8\n",
            "   Góc giữa A và B (độ): 108.376\n",
            "\n",
            "c) C^T * C =\n",
            "[[ 5  0 -1]\n",
            " [ 0 14 10]\n",
            " [-1 10 17]]\n"
          ]
        }
      ],
      "source": [
        "# Câu 1\n",
        "import numpy as np\n",
        "from numpy.linalg import norm\n",
        "from math import acos, degrees\n",
        "A = np.array([2, -1, 3, 0])\n",
        "B = np.array([1, 4, -2, 5])\n",
        "C = np.array([\n",
        "    [1, 2, -1],\n",
        "    [0, 3, 4],\n",
        "    [2, -1, 0]\n",
        "])\n",
        "\n",
        "# a) Tính tổng A + B và tích số 3A - 2B\n",
        "tong = A + B\n",
        "tich_so = 3 * A - 2 * B\n",
        "\n",
        "print(\"a) A + B =\", tong)\n",
        "print(\"   3A - 2B =\", tich_so)\n",
        "\n",
        "# b) Tính tích vô hướng A . B và góc giữa 2 vector\n",
        "dot_product = np.dot(A, B)\n",
        "cos_theta = dot_product / (norm(A) * norm(B))\n",
        "angle_deg = round(degrees(acos(cos_theta)), 3)\n",
        "\n",
        "print(\"\\nb) A · B =\", dot_product)\n",
        "print(\"   Góc giữa A và B (độ):\", angle_deg)\n",
        "\n",
        "# c) Tính tích ma trận C^T * C\n",
        "Ct = C.T\n",
        "CtC = np.dot(Ct, C)\n",
        "\n",
        "print(\"\\nc) C^T * C =\")\n",
        "print(CtC)\n"
      ]
    },
    {
      "cell_type": "code",
      "source": [
        "# Câu 2\n",
        "import numpy as np\n",
        "M = np.array([\n",
        "    [1, 2, 3, 0],\n",
        "    [4, 5, 6, 1],\n",
        "    [7, 8, 9, 2],\n",
        "    [0, 1, 1, 0]\n",
        "])\n",
        "\n",
        "N = np.array([\n",
        "    [0, 1, 2, 3],\n",
        "    [4, 5, 6, 7],\n",
        "    [8, 9, 10, 11],\n",
        "    [12, 13, 14, 15]\n",
        "])\n",
        "\n",
        "# a) Tính tích ma trận M x N\n",
        "tich_MN = np.dot(M, N)\n",
        "print(\"a) M x N =\")\n",
        "print(tich_MN)\n",
        "\n",
        "# b) Tính định thức của M (nếu có thể)\n",
        "try:\n",
        "    det_M = np.linalg.det(M)\n",
        "    print(\"\\nb) Định thức của M =\", round(det_M, 3))\n",
        "except np.linalg.LinAlgError:\n",
        "    print(\"\\nb) Không thể tính định thức vì M không phải ma trận vuông\")\n",
        "\n",
        "# c) Tính hạng của ma trận N\n",
        "rank_N = np.linalg.matrix_rank(N)\n",
        "print(\"\\nc) Hạng của ma trận N =\", rank_N)\n"
      ],
      "metadata": {
        "colab": {
          "base_uri": "https://localhost:8080/"
        },
        "id": "V1-U3j4nEF-B",
        "outputId": "45251bf3-be6d-4642-f133-ab2ed2313f4d"
      },
      "execution_count": 3,
      "outputs": [
        {
          "output_type": "stream",
          "name": "stdout",
          "text": [
            "a) M x N =\n",
            "[[ 32  38  44  50]\n",
            " [ 80  96 112 128]\n",
            " [128 154 180 206]\n",
            " [ 12  14  16  18]]\n",
            "\n",
            "b) Định thức của M = 0.0\n",
            "\n",
            "c) Hạng của ma trận N = 2\n"
          ]
        }
      ]
    },
    {
      "cell_type": "code",
      "source": [
        "# Câu 3\n",
        "import numpy as np\n",
        "P = np.array([\n",
        "    [2, 1, 0, 1],\n",
        "    [0, 3, 1, -1],\n",
        "    [1, 0, 4, 2],\n",
        "    [0, 1, 0, 3]\n",
        "])\n",
        "\n",
        "B = np.array([4, 7, 9, 5])\n",
        "\n",
        "# a) Tìm ma trận nghịch đảo của P\n",
        "try:\n",
        "    P_inv = np.linalg.inv(P)\n",
        "    print(\"a) Ma trận nghịch đảo của P là:\")\n",
        "    print(np.round(P_inv, 3))\n",
        "except np.linalg.LinAlgError:\n",
        "    print(\"a) Ma trận P không khả nghịch vì định thức bằng 0.\")\n",
        "\n",
        "# b) Giải hệ phương trình bằng cách dùng ma trận nghịch đảo\n",
        "try:\n",
        "    X = np.dot(P_inv, B)\n",
        "    print(\"\\nb) Nghiệm của hệ phương trình là (x, y, z, w):\")\n",
        "    print(np.round(X, 3))\n",
        "except:\n",
        "    print(\"Không thể giải hệ phương trình vì P không khả nghịch.\")\n",
        "\n",
        "# c) Kiểm tra nghiệm bằng cách nhân P với X và so sánh với B\n",
        "try:\n",
        "    check_B = np.dot(P, X)\n",
        "    print(\"\\nc) Kiểm tra lại P.X:\")\n",
        "    print(np.round(check_B, 3))\n",
        "    print(\"So với vector B:\")\n",
        "    print(B)\n",
        "except:\n",
        "    print(\"Không thể kiểm tra vì không có nghiệm.\")\n"
      ],
      "metadata": {
        "colab": {
          "base_uri": "https://localhost:8080/"
        },
        "id": "LXi_K-rnEZs_",
        "outputId": "99317e4a-7ed5-4a7c-a46f-22ade1af043c"
      },
      "execution_count": 4,
      "outputs": [
        {
          "output_type": "stream",
          "name": "stdout",
          "text": [
            "a) Ma trận nghịch đảo của P là:\n",
            "[[ 0.488 -0.093  0.023 -0.209]\n",
            " [ 0.035  0.279 -0.07   0.128]\n",
            " [-0.116  0.07   0.233 -0.093]\n",
            " [-0.012 -0.093  0.023  0.291]]\n",
            "\n",
            "b) Nghiệm của hệ phương trình là (x, y, z, w):\n",
            "[0.465 2.105 1.651 0.965]\n",
            "\n",
            "c) Kiểm tra lại P.X:\n",
            "[4. 7. 9. 5.]\n",
            "So với vector B:\n",
            "[4 7 9 5]\n"
          ]
        }
      ]
    },
    {
      "cell_type": "code",
      "source": [
        "#  Câu 4\n",
        "import numpy as np\n",
        "Q = np.array([\n",
        "    [4, -1, 0],\n",
        "    [1, 3, -2],\n",
        "    [0, 1, 2]\n",
        "])\n",
        "\n",
        "# a) Tìm các giá trị riêng (eigenvalues)\n",
        "eigenvalues, eigenvectors = np.linalg.eig(Q)\n",
        "print(\"a) Các giá trị riêng của Q:\")\n",
        "print(np.round(eigenvalues, 3))\n",
        "\n",
        "# b) Tìm các vector riêng (eigenvectors)\n",
        "print(\"\\nb) Các vector riêng tương ứng:\")\n",
        "for i in range(len(eigenvalues)):\n",
        "    print(f\"Vector riêng ứng với giá trị riêng {round(eigenvalues[i], 3)}:\")\n",
        "    print(np.round(eigenvectors[:, i], 3))\n",
        "\n",
        "# c) Chuẩn hóa các vector riêng (độ dài = 1)\n",
        "print(\"\\nc) Vector riêng sau khi chuẩn hóa (norm = 1):\")\n",
        "for i in range(eigenvectors.shape[1]):\n",
        "    v = eigenvectors[:, i]\n",
        "    v_normalized = v / np.linalg.norm(v)\n",
        "    print(f\"Vector {i+1} (chuẩn hóa):\")\n",
        "    print(np.round(v_normalized, 3))\n"
      ],
      "metadata": {
        "colab": {
          "base_uri": "https://localhost:8080/"
        },
        "id": "lakSi_OmEorg",
        "outputId": "9eb95f8c-baa4-4c13-e810-353679d6b3cc"
      },
      "execution_count": 5,
      "outputs": [
        {
          "output_type": "stream",
          "name": "stdout",
          "text": [
            "a) Các giá trị riêng của Q:\n",
            "[3.453+0.j    2.773+1.468j 2.773-1.468j]\n",
            "\n",
            "b) Các vector riêng tương ứng:\n",
            "Vector riêng ứng với giá trị riêng (3.453+0j):\n",
            "[0.833+0.j 0.455+0.j 0.313+0.j]\n",
            "Vector riêng ứng với giá trị riêng (2.773+1.468j):\n",
            "[-0.262-0.314j -0.782+0.j    -0.22 +0.417j]\n",
            "Vector riêng ứng với giá trị riêng (2.773-1.468j):\n",
            "[-0.262+0.314j -0.782-0.j    -0.22 -0.417j]\n",
            "\n",
            "c) Vector riêng sau khi chuẩn hóa (norm = 1):\n",
            "Vector 1 (chuẩn hóa):\n",
            "[0.833+0.j 0.455+0.j 0.313+0.j]\n",
            "Vector 2 (chuẩn hóa):\n",
            "[-0.262-0.314j -0.782+0.j    -0.22 +0.417j]\n",
            "Vector 3 (chuẩn hóa):\n",
            "[-0.262+0.314j -0.782+0.j    -0.22 -0.417j]\n"
          ]
        },
        {
          "output_type": "stream",
          "name": "stderr",
          "text": [
            "/tmp/ipython-input-5-2199062494.py:17: DeprecationWarning: The Python built-in `round` is deprecated for complex scalars, and will raise a `TypeError` in a future release. Use `np.round` or `scalar.round` instead.\n",
            "  print(f\"Vector riêng ứng với giá trị riêng {round(eigenvalues[i], 3)}:\")\n"
          ]
        }
      ]
    },
    {
      "cell_type": "code",
      "source": [
        "# Câu 5\n",
        "import numpy as np\n",
        "R = np.array([\n",
        "    [1, -2, 3],\n",
        "    [2, 0, 1],\n",
        "    [-1, 1, 4]\n",
        "])\n",
        "\n",
        "b = np.array([10, 8, 7])\n",
        "\n",
        "# a) Giải hệ phương trình Rx = b bằng np.linalg.solve()\n",
        "try:\n",
        "    x1 = np.linalg.solve(R, b)\n",
        "    print(\"a) Nghiệm của hệ phương trình Rx = b là:\")\n",
        "    print(np.round(x1, 3))\n",
        "except np.linalg.LinAlgError:\n",
        "    print(\"a) Hệ phương trình không có nghiệm duy nhất (R không khả nghịch).\")\n",
        "\n",
        "# b) Kiểm tra khả nghịch, tính nghịch đảo và giải lại hệ\n",
        "try:\n",
        "    R_inv = np.linalg.inv(R)\n",
        "    x2 = R_inv @ b\n",
        "    print(\"\\nb) Ma trận R khả nghịch. Ma trận nghịch đảo R⁻¹ là:\")\n",
        "    print(np.round(R_inv, 3))\n",
        "    print(\"\\nNghiệm khi dùng nghịch đảo là:\")\n",
        "    print(np.round(x2, 3))\n",
        "    print(\"\\nSo sánh 2 nghiệm (solve vs nghịch đảo):\")\n",
        "    print(\"Chênh lệch tuyệt đối:\", np.round(np.abs(x1 - x2), 6))\n",
        "except np.linalg.LinAlgError:\n",
        "    print(\"\\nb) R không khả nghịch, không thể tính nghịch đảo.\")\n",
        "\n",
        "# c) Tính chuẩn Frobenius của R\n",
        "fro_norm = np.linalg.norm(R, ord='fro')\n",
        "print(\"\\nc) Chuẩn Frobenius của R =\", round(fro_norm, 3))\n"
      ],
      "metadata": {
        "colab": {
          "base_uri": "https://localhost:8080/"
        },
        "id": "Y7PGxmlPE2Kt",
        "outputId": "949511f4-5e53-46c6-b35a-c21ec7a48b1f"
      },
      "execution_count": 6,
      "outputs": [
        {
          "output_type": "stream",
          "name": "stdout",
          "text": [
            "a) Nghiệm của hệ phương trình Rx = b là:\n",
            "[2.783 0.043 2.435]\n",
            "\n",
            "b) Ma trận R khả nghịch. Ma trận nghịch đảo R⁻¹ là:\n",
            "[[-0.043  0.478 -0.087]\n",
            " [-0.391  0.304  0.217]\n",
            " [ 0.087  0.043  0.174]]\n",
            "\n",
            "Nghiệm khi dùng nghịch đảo là:\n",
            "[2.783 0.043 2.435]\n",
            "\n",
            "So sánh 2 nghiệm (solve vs nghịch đảo):\n",
            "Chênh lệch tuyệt đối: [0. 0. 0.]\n",
            "\n",
            "c) Chuẩn Frobenius của R = 6.083\n"
          ]
        }
      ]
    }
  ]
}