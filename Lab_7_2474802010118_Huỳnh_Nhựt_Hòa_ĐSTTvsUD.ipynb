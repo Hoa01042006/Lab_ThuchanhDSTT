{
  "nbformat": 4,
  "nbformat_minor": 0,
  "metadata": {
    "colab": {
      "provenance": []
    },
    "kernelspec": {
      "name": "python3",
      "display_name": "Python 3"
    },
    "language_info": {
      "name": "python"
    }
  },
  "cells": [
    {
      "cell_type": "code",
      "execution_count": 1,
      "metadata": {
        "colab": {
          "base_uri": "https://localhost:8080/"
        },
        "id": "s1GknTX8aGbB",
        "outputId": "d325f8f5-4978-4478-ab08-48563f996929"
      },
      "outputs": [
        {
          "output_type": "stream",
          "name": "stdout",
          "text": [
            "Kết quả tích vô hướng là: [ 1  5 30]\n"
          ]
        }
      ],
      "source": [
        "# Bài 1 2.2 2.3 đọc không làm\n",
        "import numpy as np\n",
        "signals = np.array([\n",
        "    [1, 2],\n",
        "    [3, 4],\n",
        "    [10, 0]\n",
        "])\n",
        "\n",
        "sample = np.array([3, -1])\n",
        "result = np.inner(signals, sample)\n",
        "\n",
        "print(\"Kết quả tích vô hướng là:\", result)\n",
        "\n"
      ]
    },
    {
      "cell_type": "code",
      "source": [
        "# Bài 1.1\n",
        "import numpy as np\n",
        "\n",
        "A = np.array([0, 0, -1, 2, 3, -1, 0, 1, -1, -1])\n",
        "search_vector = np.array([0, 1, -1])\n",
        "print(\"Độ dài A:\", len(A))\n",
        "print(\"Độ dài search_vector:\", len(search_vector))\n",
        "\n",
        "num_rows = len(A) - len(search_vector) + 1\n",
        "B = np.zeros((num_rows, len(search_vector)), dtype=int)\n",
        "for i in range(num_rows):\n",
        "    for j in range(len(search_vector)):\n",
        "        B[i, j] = A[i + j]\n",
        "\n",
        "print(\"Ma trận B chứa các đoạn con:\")\n",
        "print(B)\n",
        "C = np.inner(B, search_vector)\n",
        "\n",
        "print(\"Giá trị dot product của từng dòng với search_vector:\")\n",
        "print(C)\n",
        "\n",
        "target = np.inner(search_vector, search_vector)\n",
        "print(\"Dot product chuẩn (search_vector ⋅ search_vector):\", target)\n",
        "print(\"Các vị trí khớp:\")\n",
        "for i in range(num_rows):\n",
        "    if C[i] == target:\n",
        "        print(f\"Vị trí {i}:\", B[i])\n"
      ],
      "metadata": {
        "colab": {
          "base_uri": "https://localhost:8080/"
        },
        "id": "gMyhJDu7g5Ny",
        "outputId": "41d0cb4b-dc77-4953-8bbe-08c1efb92628"
      },
      "execution_count": 2,
      "outputs": [
        {
          "output_type": "stream",
          "name": "stdout",
          "text": [
            "Độ dài A: 10\n",
            "Độ dài search_vector: 3\n",
            "Ma trận B chứa các đoạn con:\n",
            "[[ 0  0 -1]\n",
            " [ 0 -1  2]\n",
            " [-1  2  3]\n",
            " [ 2  3 -1]\n",
            " [ 3 -1  0]\n",
            " [-1  0  1]\n",
            " [ 0  1 -1]\n",
            " [ 1 -1 -1]]\n",
            "Giá trị dot product của từng dòng với search_vector:\n",
            "[ 1 -3 -1  4 -1 -1  2  0]\n",
            "Dot product chuẩn (search_vector ⋅ search_vector): 2\n",
            "Các vị trí khớp:\n",
            "Vị trí 6: [ 0  1 -1]\n"
          ]
        }
      ]
    },
    {
      "cell_type": "code",
      "source": [
        "# Bài 2.1\n",
        "import numpy as np\n",
        "\n",
        "A = np.array([\n",
        "    [0, 1, 1, 1],\n",
        "    [1, 0, 1, 1],\n",
        "    [1, 1, 0, 1],\n",
        "    [1, 1, 1, 0]\n",
        "])\n",
        "x = np.array([1.0, 1.0, 1.0, 1.0])\n",
        "x = np.dot(A, x)\n",
        "print(\"Kết quả lần nhân đầu tiên:\")\n",
        "print(x)\n",
        "print(\"\\nLặp lại phép nhân 10 lần và in kết quả mỗi lần:\")\n",
        "for i in range(10):\n",
        "    x = np.dot(A, x)\n",
        "    print(f\"Lần {i+1}:\", x)\n"
      ],
      "metadata": {
        "colab": {
          "base_uri": "https://localhost:8080/"
        },
        "id": "luuLzZNfk7Ju",
        "outputId": "dfa90c71-f814-4588-9350-6f472e3bad60"
      },
      "execution_count": 3,
      "outputs": [
        {
          "output_type": "stream",
          "name": "stdout",
          "text": [
            "Kết quả lần nhân đầu tiên:\n",
            "[3. 3. 3. 3.]\n",
            "\n",
            "Lặp lại phép nhân 10 lần và in kết quả mỗi lần:\n",
            "Lần 1: [9. 9. 9. 9.]\n",
            "Lần 2: [27. 27. 27. 27.]\n",
            "Lần 3: [81. 81. 81. 81.]\n",
            "Lần 4: [243. 243. 243. 243.]\n",
            "Lần 5: [729. 729. 729. 729.]\n",
            "Lần 6: [2187. 2187. 2187. 2187.]\n",
            "Lần 7: [6561. 6561. 6561. 6561.]\n",
            "Lần 8: [19683. 19683. 19683. 19683.]\n",
            "Lần 9: [59049. 59049. 59049. 59049.]\n",
            "Lần 10: [177147. 177147. 177147. 177147.]\n"
          ]
        }
      ]
    },
    {
      "cell_type": "code",
      "source": [
        "# Bài Tập 3\n",
        "import numpy as np\n",
        "import matplotlib.pyplot as plt\n",
        "from PIL import Image\n",
        "\n",
        "def resize_image(image_array, new_width, new_height):\n",
        "    \"\"\"\n",
        "    Resize ảnh bằng cách nội suy gần nhất (nearest-neighbor).\n",
        "    image_array: ảnh numpy (H, W, C) hoặc (H, W)\n",
        "    Trả về: ảnh đã resize kích thước (new_height, new_width, C)\n",
        "    \"\"\"\n",
        "    old_height, old_width = image_array.shape[:2]\n",
        "\n",
        "    if image_array.ndim == 3:\n",
        "        new_image = np.zeros((new_height, new_width, image_array.shape[2]), dtype=np.uint8)\n",
        "    else:\n",
        "        new_image = np.zeros((new_height, new_width), dtype=np.uint8)\n",
        "    scale_y = old_height / new_height\n",
        "    scale_x = old_width / new_width\n",
        "\n",
        "    for y in range(new_height):\n",
        "        for x in range(new_width):\n",
        "\n",
        "            src_y = int(y * scale_y)\n",
        "            src_x = int(x * scale_x)\n",
        "\n",
        "            new_image[y, x] = image_array[src_y, src_x]\n",
        "\n",
        "    return new_image\n",
        "\n",
        "img = Image.open(\"your_image.jpg\")\n",
        "img = img.convert(\"RGB\")\n",
        "img_np = np.array(img)\n",
        "resized_img = resize_image(img_np, new_width=100, new_height=100)\n",
        "plt.subplot(1, 2, 1)\n",
        "plt.title(\"Ảnh gốc\")\n",
        "plt.imshow(img_np)\n",
        "plt.axis('off')\n",
        "\n",
        "plt.subplot(1, 2, 2)\n",
        "plt.title(\"Ảnh đã resize\")\n",
        "plt.imshow(resized_img)\n",
        "plt.axis('off')\n",
        "\n",
        "plt.show()\n"
      ],
      "metadata": {
        "colab": {
          "base_uri": "https://localhost:8080/",
          "height": 332
        },
        "id": "IdstyhARmo0n",
        "outputId": "fd2927d0-31c0-4abf-92e3-f80f631c4b59"
      },
      "execution_count": 4,
      "outputs": [
        {
          "output_type": "error",
          "ename": "FileNotFoundError",
          "evalue": "[Errno 2] No such file or directory: 'your_image.jpg'",
          "traceback": [
            "\u001b[0;31m---------------------------------------------------------------------------\u001b[0m",
            "\u001b[0;31mFileNotFoundError\u001b[0m                         Traceback (most recent call last)",
            "\u001b[0;32m/tmp/ipython-input-4-1178168269.py\u001b[0m in \u001b[0;36m<cell line: 0>\u001b[0;34m()\u001b[0m\n\u001b[1;32m     29\u001b[0m     \u001b[0;32mreturn\u001b[0m \u001b[0mnew_image\u001b[0m\u001b[0;34m\u001b[0m\u001b[0;34m\u001b[0m\u001b[0m\n\u001b[1;32m     30\u001b[0m \u001b[0;34m\u001b[0m\u001b[0m\n\u001b[0;32m---> 31\u001b[0;31m \u001b[0mimg\u001b[0m \u001b[0;34m=\u001b[0m \u001b[0mImage\u001b[0m\u001b[0;34m.\u001b[0m\u001b[0mopen\u001b[0m\u001b[0;34m(\u001b[0m\u001b[0;34m\"your_image.jpg\"\u001b[0m\u001b[0;34m)\u001b[0m\u001b[0;34m\u001b[0m\u001b[0;34m\u001b[0m\u001b[0m\n\u001b[0m\u001b[1;32m     32\u001b[0m \u001b[0mimg\u001b[0m \u001b[0;34m=\u001b[0m \u001b[0mimg\u001b[0m\u001b[0;34m.\u001b[0m\u001b[0mconvert\u001b[0m\u001b[0;34m(\u001b[0m\u001b[0;34m\"RGB\"\u001b[0m\u001b[0;34m)\u001b[0m\u001b[0;34m\u001b[0m\u001b[0;34m\u001b[0m\u001b[0m\n\u001b[1;32m     33\u001b[0m \u001b[0mimg_np\u001b[0m \u001b[0;34m=\u001b[0m \u001b[0mnp\u001b[0m\u001b[0;34m.\u001b[0m\u001b[0marray\u001b[0m\u001b[0;34m(\u001b[0m\u001b[0mimg\u001b[0m\u001b[0;34m)\u001b[0m\u001b[0;34m\u001b[0m\u001b[0;34m\u001b[0m\u001b[0m\n",
            "\u001b[0;32m/usr/local/lib/python3.11/dist-packages/PIL/Image.py\u001b[0m in \u001b[0;36mopen\u001b[0;34m(fp, mode, formats)\u001b[0m\n\u001b[1;32m   3503\u001b[0m \u001b[0;34m\u001b[0m\u001b[0m\n\u001b[1;32m   3504\u001b[0m     \u001b[0;32mif\u001b[0m \u001b[0mfilename\u001b[0m\u001b[0;34m:\u001b[0m\u001b[0;34m\u001b[0m\u001b[0;34m\u001b[0m\u001b[0m\n\u001b[0;32m-> 3505\u001b[0;31m         \u001b[0mfp\u001b[0m \u001b[0;34m=\u001b[0m \u001b[0mbuiltins\u001b[0m\u001b[0;34m.\u001b[0m\u001b[0mopen\u001b[0m\u001b[0;34m(\u001b[0m\u001b[0mfilename\u001b[0m\u001b[0;34m,\u001b[0m \u001b[0;34m\"rb\"\u001b[0m\u001b[0;34m)\u001b[0m\u001b[0;34m\u001b[0m\u001b[0;34m\u001b[0m\u001b[0m\n\u001b[0m\u001b[1;32m   3506\u001b[0m         \u001b[0mexclusive_fp\u001b[0m \u001b[0;34m=\u001b[0m \u001b[0;32mTrue\u001b[0m\u001b[0;34m\u001b[0m\u001b[0;34m\u001b[0m\u001b[0m\n\u001b[1;32m   3507\u001b[0m     \u001b[0;32melse\u001b[0m\u001b[0;34m:\u001b[0m\u001b[0;34m\u001b[0m\u001b[0;34m\u001b[0m\u001b[0m\n",
            "\u001b[0;31mFileNotFoundError\u001b[0m: [Errno 2] No such file or directory: 'your_image.jpg'"
          ]
        }
      ]
    },
    {
      "cell_type": "markdown",
      "source": [
        "Bài Tập Về Nhà\n"
      ],
      "metadata": {
        "id": "-V62pKZ_nsJk"
      }
    },
    {
      "cell_type": "code",
      "source": [
        "# Bài 2\n",
        "# Kernel a (kiểu Laplacian 4 hướng)\n",
        "kernel_a = np.array([\n",
        "    [ 0, -1,  0],\n",
        "    [-1,  4, -1],\n",
        "    [ 0, -1,  0]\n",
        "])\n",
        "\n",
        "kernel_b = np.array([\n",
        "    [-1, -1, -1],\n",
        "    [-1,  8, -1],\n",
        "    [-1, -1, -1]\n",
        "])\n",
        "def edge_emphasis(image_array, kernel):\n",
        "    return convolve2d(image_array, kernel, mode='same', boundary='symm')\n",
        "img = Image.open(\"your_image.jpg\").convert(\"L\")\n",
        "img_array = np.array(img)\n",
        "edge_a = edge_emphasis(img_array, kernel_a)\n",
        "edge_b = edge_emphasis(img_array, kernel_b)\n",
        "plt.figure(figsize=(10, 4))\n",
        "\n",
        "plt.subplot(1, 3, 1)\n",
        "plt.title(\"Ảnh gốc\")\n",
        "plt.imshow(img_array, cmap='gray')\n",
        "plt.axis('off')\n",
        "\n",
        "plt.subplot(1, 3, 2)\n",
        "plt.title(\"Rút xương – Kernel A\")\n",
        "plt.imshow(edge_a, cmap='gray')\n",
        "plt.axis('off')\n",
        "\n",
        "plt.subplot(1, 3, 3)\n",
        "plt.title(\"Rút xương – Kernel B\")\n",
        "plt.imshow(edge_b, cmap='gray')\n",
        "plt.axis('off')\n",
        "\n",
        "plt.tight_layout()\n",
        "plt.show()\n"
      ],
      "metadata": {
        "colab": {
          "base_uri": "https://localhost:8080/",
          "height": 332
        },
        "id": "KHqWEuxNnvRP",
        "outputId": "05cb4a19-bb8c-4404-9f94-bb8f517ba01c"
      },
      "execution_count": 5,
      "outputs": [
        {
          "output_type": "error",
          "ename": "FileNotFoundError",
          "evalue": "[Errno 2] No such file or directory: 'your_image.jpg'",
          "traceback": [
            "\u001b[0;31m---------------------------------------------------------------------------\u001b[0m",
            "\u001b[0;31mFileNotFoundError\u001b[0m                         Traceback (most recent call last)",
            "\u001b[0;32m/tmp/ipython-input-5-1555839900.py\u001b[0m in \u001b[0;36m<cell line: 0>\u001b[0;34m()\u001b[0m\n\u001b[1;32m     14\u001b[0m \u001b[0;32mdef\u001b[0m \u001b[0medge_emphasis\u001b[0m\u001b[0;34m(\u001b[0m\u001b[0mimage_array\u001b[0m\u001b[0;34m,\u001b[0m \u001b[0mkernel\u001b[0m\u001b[0;34m)\u001b[0m\u001b[0;34m:\u001b[0m\u001b[0;34m\u001b[0m\u001b[0;34m\u001b[0m\u001b[0m\n\u001b[1;32m     15\u001b[0m     \u001b[0;32mreturn\u001b[0m \u001b[0mconvolve2d\u001b[0m\u001b[0;34m(\u001b[0m\u001b[0mimage_array\u001b[0m\u001b[0;34m,\u001b[0m \u001b[0mkernel\u001b[0m\u001b[0;34m,\u001b[0m \u001b[0mmode\u001b[0m\u001b[0;34m=\u001b[0m\u001b[0;34m'same'\u001b[0m\u001b[0;34m,\u001b[0m \u001b[0mboundary\u001b[0m\u001b[0;34m=\u001b[0m\u001b[0;34m'symm'\u001b[0m\u001b[0;34m)\u001b[0m\u001b[0;34m\u001b[0m\u001b[0;34m\u001b[0m\u001b[0m\n\u001b[0;32m---> 16\u001b[0;31m \u001b[0mimg\u001b[0m \u001b[0;34m=\u001b[0m \u001b[0mImage\u001b[0m\u001b[0;34m.\u001b[0m\u001b[0mopen\u001b[0m\u001b[0;34m(\u001b[0m\u001b[0;34m\"your_image.jpg\"\u001b[0m\u001b[0;34m)\u001b[0m\u001b[0;34m.\u001b[0m\u001b[0mconvert\u001b[0m\u001b[0;34m(\u001b[0m\u001b[0;34m\"L\"\u001b[0m\u001b[0;34m)\u001b[0m\u001b[0;34m\u001b[0m\u001b[0;34m\u001b[0m\u001b[0m\n\u001b[0m\u001b[1;32m     17\u001b[0m \u001b[0mimg_array\u001b[0m \u001b[0;34m=\u001b[0m \u001b[0mnp\u001b[0m\u001b[0;34m.\u001b[0m\u001b[0marray\u001b[0m\u001b[0;34m(\u001b[0m\u001b[0mimg\u001b[0m\u001b[0;34m)\u001b[0m\u001b[0;34m\u001b[0m\u001b[0;34m\u001b[0m\u001b[0m\n\u001b[1;32m     18\u001b[0m \u001b[0medge_a\u001b[0m \u001b[0;34m=\u001b[0m \u001b[0medge_emphasis\u001b[0m\u001b[0;34m(\u001b[0m\u001b[0mimg_array\u001b[0m\u001b[0;34m,\u001b[0m \u001b[0mkernel_a\u001b[0m\u001b[0;34m)\u001b[0m\u001b[0;34m\u001b[0m\u001b[0;34m\u001b[0m\u001b[0m\n",
            "\u001b[0;32m/usr/local/lib/python3.11/dist-packages/PIL/Image.py\u001b[0m in \u001b[0;36mopen\u001b[0;34m(fp, mode, formats)\u001b[0m\n\u001b[1;32m   3503\u001b[0m \u001b[0;34m\u001b[0m\u001b[0m\n\u001b[1;32m   3504\u001b[0m     \u001b[0;32mif\u001b[0m \u001b[0mfilename\u001b[0m\u001b[0;34m:\u001b[0m\u001b[0;34m\u001b[0m\u001b[0;34m\u001b[0m\u001b[0m\n\u001b[0;32m-> 3505\u001b[0;31m         \u001b[0mfp\u001b[0m \u001b[0;34m=\u001b[0m \u001b[0mbuiltins\u001b[0m\u001b[0;34m.\u001b[0m\u001b[0mopen\u001b[0m\u001b[0;34m(\u001b[0m\u001b[0mfilename\u001b[0m\u001b[0;34m,\u001b[0m \u001b[0;34m\"rb\"\u001b[0m\u001b[0;34m)\u001b[0m\u001b[0;34m\u001b[0m\u001b[0;34m\u001b[0m\u001b[0m\n\u001b[0m\u001b[1;32m   3506\u001b[0m         \u001b[0mexclusive_fp\u001b[0m \u001b[0;34m=\u001b[0m \u001b[0;32mTrue\u001b[0m\u001b[0;34m\u001b[0m\u001b[0;34m\u001b[0m\u001b[0m\n\u001b[1;32m   3507\u001b[0m     \u001b[0;32melse\u001b[0m\u001b[0;34m:\u001b[0m\u001b[0;34m\u001b[0m\u001b[0;34m\u001b[0m\u001b[0m\n",
            "\u001b[0;31mFileNotFoundError\u001b[0m: [Errno 2] No such file or directory: 'your_image.jpg'"
          ]
        }
      ]
    },
    {
      "cell_type": "code",
      "source": [
        "# Bài 1\n",
        "import numpy as np\n",
        "import matplotlib.pyplot as plt\n",
        "from PIL import Image\n",
        "from scipy.signal import convolve2d\n",
        "gaussian_kernel = np.array([\n",
        "    [1,  4,  7,  4, 1],\n",
        "    [4, 16, 26, 16, 4],\n",
        "    [7, 26, 41, 26, 7],\n",
        "    [4, 16, 26, 16, 4],\n",
        "    [1,  4,  7,  4, 1]\n",
        "], dtype=np.float32)\n",
        "\n",
        "gaussian_kernel /= np.sum(gaussian_kernel)\n",
        "def apply_gaussian_blur(image_array):\n",
        "    return convolve2d(image_array, gaussian_kernel, mode='same', boundary='symm')\n",
        "img = Image.open(\"your_image.jpg\").convert(\"L\")\n",
        "img_array = np.array(img)\n",
        "blurred_img = apply_gaussian_blur(img_array)\n",
        "plt.subplot(1, 2, 1)\n",
        "plt.title(\"Ảnh gốc\")\n",
        "plt.imshow(img_array, cmap='gray')\n",
        "plt.axis('off')\n",
        "\n",
        "plt.subplot(1, 2, 2)\n",
        "plt.title(\"Làm mờ Gaussian\")\n",
        "plt.imshow(blurred_img, cmap='gray')\n",
        "plt.axis('off')\n",
        "\n",
        "plt.show()\n"
      ],
      "metadata": {
        "colab": {
          "base_uri": "https://localhost:8080/",
          "height": 332
        },
        "id": "OGhwotdloBfk",
        "outputId": "b2d5a160-ecee-4b4b-ac75-7422b9e99d3a"
      },
      "execution_count": 6,
      "outputs": [
        {
          "output_type": "error",
          "ename": "FileNotFoundError",
          "evalue": "[Errno 2] No such file or directory: 'your_image.jpg'",
          "traceback": [
            "\u001b[0;31m---------------------------------------------------------------------------\u001b[0m",
            "\u001b[0;31mFileNotFoundError\u001b[0m                         Traceback (most recent call last)",
            "\u001b[0;32m/tmp/ipython-input-6-2978357477.py\u001b[0m in \u001b[0;36m<cell line: 0>\u001b[0;34m()\u001b[0m\n\u001b[1;32m     15\u001b[0m \u001b[0;32mdef\u001b[0m \u001b[0mapply_gaussian_blur\u001b[0m\u001b[0;34m(\u001b[0m\u001b[0mimage_array\u001b[0m\u001b[0;34m)\u001b[0m\u001b[0;34m:\u001b[0m\u001b[0;34m\u001b[0m\u001b[0;34m\u001b[0m\u001b[0m\n\u001b[1;32m     16\u001b[0m     \u001b[0;32mreturn\u001b[0m \u001b[0mconvolve2d\u001b[0m\u001b[0;34m(\u001b[0m\u001b[0mimage_array\u001b[0m\u001b[0;34m,\u001b[0m \u001b[0mgaussian_kernel\u001b[0m\u001b[0;34m,\u001b[0m \u001b[0mmode\u001b[0m\u001b[0;34m=\u001b[0m\u001b[0;34m'same'\u001b[0m\u001b[0;34m,\u001b[0m \u001b[0mboundary\u001b[0m\u001b[0;34m=\u001b[0m\u001b[0;34m'symm'\u001b[0m\u001b[0;34m)\u001b[0m\u001b[0;34m\u001b[0m\u001b[0;34m\u001b[0m\u001b[0m\n\u001b[0;32m---> 17\u001b[0;31m \u001b[0mimg\u001b[0m \u001b[0;34m=\u001b[0m \u001b[0mImage\u001b[0m\u001b[0;34m.\u001b[0m\u001b[0mopen\u001b[0m\u001b[0;34m(\u001b[0m\u001b[0;34m\"your_image.jpg\"\u001b[0m\u001b[0;34m)\u001b[0m\u001b[0;34m.\u001b[0m\u001b[0mconvert\u001b[0m\u001b[0;34m(\u001b[0m\u001b[0;34m\"L\"\u001b[0m\u001b[0;34m)\u001b[0m\u001b[0;34m\u001b[0m\u001b[0;34m\u001b[0m\u001b[0m\n\u001b[0m\u001b[1;32m     18\u001b[0m \u001b[0mimg_array\u001b[0m \u001b[0;34m=\u001b[0m \u001b[0mnp\u001b[0m\u001b[0;34m.\u001b[0m\u001b[0marray\u001b[0m\u001b[0;34m(\u001b[0m\u001b[0mimg\u001b[0m\u001b[0;34m)\u001b[0m\u001b[0;34m\u001b[0m\u001b[0;34m\u001b[0m\u001b[0m\n\u001b[1;32m     19\u001b[0m \u001b[0mblurred_img\u001b[0m \u001b[0;34m=\u001b[0m \u001b[0mapply_gaussian_blur\u001b[0m\u001b[0;34m(\u001b[0m\u001b[0mimg_array\u001b[0m\u001b[0;34m)\u001b[0m\u001b[0;34m\u001b[0m\u001b[0;34m\u001b[0m\u001b[0m\n",
            "\u001b[0;32m/usr/local/lib/python3.11/dist-packages/PIL/Image.py\u001b[0m in \u001b[0;36mopen\u001b[0;34m(fp, mode, formats)\u001b[0m\n\u001b[1;32m   3503\u001b[0m \u001b[0;34m\u001b[0m\u001b[0m\n\u001b[1;32m   3504\u001b[0m     \u001b[0;32mif\u001b[0m \u001b[0mfilename\u001b[0m\u001b[0;34m:\u001b[0m\u001b[0;34m\u001b[0m\u001b[0;34m\u001b[0m\u001b[0m\n\u001b[0;32m-> 3505\u001b[0;31m         \u001b[0mfp\u001b[0m \u001b[0;34m=\u001b[0m \u001b[0mbuiltins\u001b[0m\u001b[0;34m.\u001b[0m\u001b[0mopen\u001b[0m\u001b[0;34m(\u001b[0m\u001b[0mfilename\u001b[0m\u001b[0;34m,\u001b[0m \u001b[0;34m\"rb\"\u001b[0m\u001b[0;34m)\u001b[0m\u001b[0;34m\u001b[0m\u001b[0;34m\u001b[0m\u001b[0m\n\u001b[0m\u001b[1;32m   3506\u001b[0m         \u001b[0mexclusive_fp\u001b[0m \u001b[0;34m=\u001b[0m \u001b[0;32mTrue\u001b[0m\u001b[0;34m\u001b[0m\u001b[0;34m\u001b[0m\u001b[0m\n\u001b[1;32m   3507\u001b[0m     \u001b[0;32melse\u001b[0m\u001b[0;34m:\u001b[0m\u001b[0;34m\u001b[0m\u001b[0;34m\u001b[0m\u001b[0m\n",
            "\u001b[0;31mFileNotFoundError\u001b[0m: [Errno 2] No such file or directory: 'your_image.jpg'"
          ]
        }
      ]
    }
  ]
}