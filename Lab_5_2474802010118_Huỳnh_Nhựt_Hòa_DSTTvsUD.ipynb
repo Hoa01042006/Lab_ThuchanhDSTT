{
  "nbformat": 4,
  "nbformat_minor": 0,
  "metadata": {
    "colab": {
      "provenance": []
    },
    "kernelspec": {
      "name": "python3",
      "display_name": "Python 3"
    },
    "language_info": {
      "name": "python"
    }
  },
  "cells": [
    {
      "cell_type": "code",
      "execution_count": 1,
      "metadata": {
        "colab": {
          "base_uri": "https://localhost:8080/"
        },
        "id": "V1pvKWQ3HLnJ",
        "outputId": "a23f39ed-0eb6-43de-d839-9175408adfeb"
      },
      "outputs": [
        {
          "output_type": "stream",
          "name": "stdout",
          "text": [
            "Lỗi: name 'E' is not defined\n",
            "Mảng E sau khi copyto(E, D):\n",
            "[[1 2]\n",
            " [3 4]]\n"
          ]
        }
      ],
      "source": [
        "# Bài 1.1\n",
        "import numpy as np\n",
        "\n",
        "D = np.array([[1, 2], [3, 4]])\n",
        "try:\n",
        "    np.copyto(E, D)\n",
        "except NameError as e:\n",
        "    print(f\"Lỗi: {e}\")\n",
        "except Exception as e:\n",
        "    print(f\"Lỗi khác: {e}\")\n",
        "\n",
        "E = np.array([[1, 2], [3, 5]])\n",
        "\n",
        "np.copyto(E, D)\n",
        "\n",
        "print(\"Mảng E sau khi copyto(E, D):\")\n",
        "print(E)\n"
      ]
    },
    {
      "cell_type": "code",
      "source": [
        "#  Bài 1.2\n",
        "import numpy as np\n",
        "\n",
        "# Sử dụng numpy.matrix\n",
        "try:\n",
        "    x = np.array([['a','b'],['c','d']])\n",
        "    y = 'x'\n",
        "    C = np.matrix([[x, y], [1, 2]], dtype=object)\n",
        "    print(\"Kết quả của print(C):\")\n",
        "    print(C)\n",
        "except Exception as e:\n",
        "    print(f\"Đã xảy ra lỗi: {e}\")\n",
        "\n",
        "print(\"\\n\" + \"=\"*30 + \"\\n\")\n",
        "\n",
        "# Lỗi với numpy.matrix nhiều hơn 2 chiều\n",
        "try:\n",
        "    A_error = np.matrix([[[1,2],[3,4]],[[5,6],[7,8]]])\n",
        "    print(A_error)\n",
        "except ValueError as e:\n",
        "    print(\"Ghi nhận lỗi khi tạo matrix 3 chiều:\")\n",
        "    print(f\"Lỗi: {e}\")\n",
        "\n",
        "print(\"\\n\" + \"=\"*30 + \"\\n\")\n",
        "\n",
        "# Sử dụng numpy.array cho mảng nhiều chiều\n",
        "A_array = np.array([[[1,2],[3,4]],[[5,6],[7,8]]])\n",
        "print(\"Kết quả của print(A) khi A là một array 3 chiều:\")\n",
        "print(A_array)\n",
        "print(f\"\\nSố chiều của mảng A: {A_array.ndim}\")"
      ],
      "metadata": {
        "colab": {
          "base_uri": "https://localhost:8080/"
        },
        "id": "b74PRLtLIBKz",
        "outputId": "1836dded-4bf7-4ea0-f9c1-d26ec764ae5e"
      },
      "execution_count": 2,
      "outputs": [
        {
          "output_type": "stream",
          "name": "stdout",
          "text": [
            "Kết quả của print(C):\n",
            "[[array([['a', 'b'],\n",
            "         ['c', 'd']], dtype='<U1') 'x']\n",
            " [1 2]]\n",
            "\n",
            "==============================\n",
            "\n",
            "Ghi nhận lỗi khi tạo matrix 3 chiều:\n",
            "Lỗi: matrix must be 2-dimensional\n",
            "\n",
            "==============================\n",
            "\n",
            "Kết quả của print(A) khi A là một array 3 chiều:\n",
            "[[[1 2]\n",
            "  [3 4]]\n",
            "\n",
            " [[5 6]\n",
            "  [7 8]]]\n",
            "\n",
            "Số chiều của mảng A: 3\n"
          ]
        }
      ]
    },
    {
      "cell_type": "code",
      "source": [
        "# Bài 1.3\n",
        "from numpy import matlib\n",
        "\n",
        "# Tạo ma trận đơn vị G\n",
        "G = matlib.identity(5)\n",
        "print(G)\n",
        "\n",
        "print(\"\\n\" + \"=\"*30 + \"\\n\")\n",
        "\n",
        "# Tạo ma trận ngẫu nhiên H\n",
        "print(\"--- Ma trận ngẫu nhiên H (3x2) ---\")\n",
        "print(\"(Lưu ý: Kết quả sẽ khác nhau mỗi lần chạy)\")\n",
        "H = matlib.randn(3,2)\n",
        "print(H)\n",
        "\n",
        "print(\"\\n\" + \"=\"*30 + \"\\n\")\n",
        "\n",
        "# Tạo ma trận zero K\n",
        "print(\"--- Ma trận zero K (4x4) ---\")\n",
        "K = matlib.zeros([4,4])\n",
        "print(K)"
      ],
      "metadata": {
        "colab": {
          "base_uri": "https://localhost:8080/"
        },
        "id": "rT8qBxE-JAkw",
        "outputId": "1984c6aa-dc26-4b2e-bb17-5a48c7632cee"
      },
      "execution_count": 3,
      "outputs": [
        {
          "output_type": "stream",
          "name": "stdout",
          "text": [
            "[[1. 0. 0. 0. 0.]\n",
            " [0. 1. 0. 0. 0.]\n",
            " [0. 0. 1. 0. 0.]\n",
            " [0. 0. 0. 1. 0.]\n",
            " [0. 0. 0. 0. 1.]]\n",
            "\n",
            "==============================\n",
            "\n",
            "--- Ma trận ngẫu nhiên H (3x2) ---\n",
            "(Lưu ý: Kết quả sẽ khác nhau mỗi lần chạy)\n",
            "[[ 0.52687554  2.15390057]\n",
            " [ 0.53524182 -1.30254439]\n",
            " [ 0.20605558  1.76027714]]\n",
            "\n",
            "==============================\n",
            "\n",
            "--- Ma trận zero K (4x4) ---\n",
            "[[0. 0. 0. 0.]\n",
            " [0. 0. 0. 0.]\n",
            " [0. 0. 0. 0.]\n",
            " [0. 0. 0. 0.]]\n"
          ]
        }
      ]
    },
    {
      "cell_type": "code",
      "source": [
        "# Bài 2.2\n",
        "import numpy as np\n",
        "\n",
        "c = [3, 7, 15, 1, 292, 1, 1, 1, 2, 1, 3, 1, 14, 2]\n",
        "M = np.mat([[1, 0], [0, 1]])\n",
        "for i in range(len(c)):\n",
        "    ci = np.mat([[c[i], 1], [1, 0]])\n",
        "    M = M.dot(ci)\n",
        "\n",
        "print(\"Ma trận kết quả:\")\n",
        "print(M)\n",
        "\n",
        "pi_approx = M[0, 0] / M[1, 0]\n",
        "print(\"Giá trị Pi gần đúng:\", pi_approx)\n"
      ],
      "metadata": {
        "colab": {
          "base_uri": "https://localhost:8080/",
          "height": 332
        },
        "id": "A-CRgugGJrtJ",
        "outputId": "48ce8d27-b3d4-46c4-9908-45fc1b33b50a"
      },
      "execution_count": 5,
      "outputs": [
        {
          "output_type": "error",
          "ename": "AttributeError",
          "evalue": "module 'numpy' has no attribute 'math'",
          "traceback": [
            "\u001b[0;31m---------------------------------------------------------------------------\u001b[0m",
            "\u001b[0;31mAttributeError\u001b[0m                            Traceback (most recent call last)",
            "\u001b[0;32m/tmp/ipython-input-5-2046682913.py\u001b[0m in \u001b[0;36m<cell line: 0>\u001b[0;34m()\u001b[0m\n\u001b[1;32m      3\u001b[0m \u001b[0;34m\u001b[0m\u001b[0m\n\u001b[1;32m      4\u001b[0m \u001b[0mc\u001b[0m \u001b[0;34m=\u001b[0m \u001b[0;34m[\u001b[0m\u001b[0;36m3\u001b[0m\u001b[0;34m,\u001b[0m \u001b[0;36m7\u001b[0m\u001b[0;34m,\u001b[0m \u001b[0;36m15\u001b[0m\u001b[0;34m,\u001b[0m \u001b[0;36m1\u001b[0m\u001b[0;34m,\u001b[0m \u001b[0;36m292\u001b[0m\u001b[0;34m,\u001b[0m \u001b[0;36m1\u001b[0m\u001b[0;34m,\u001b[0m \u001b[0;36m1\u001b[0m\u001b[0;34m,\u001b[0m \u001b[0;36m1\u001b[0m\u001b[0;34m,\u001b[0m \u001b[0;36m2\u001b[0m\u001b[0;34m,\u001b[0m \u001b[0;36m1\u001b[0m\u001b[0;34m,\u001b[0m \u001b[0;36m3\u001b[0m\u001b[0;34m,\u001b[0m \u001b[0;36m1\u001b[0m\u001b[0;34m,\u001b[0m \u001b[0;36m14\u001b[0m\u001b[0;34m,\u001b[0m \u001b[0;36m2\u001b[0m\u001b[0;34m]\u001b[0m\u001b[0;34m\u001b[0m\u001b[0;34m\u001b[0m\u001b[0m\n\u001b[0;32m----> 5\u001b[0;31m \u001b[0mM\u001b[0m \u001b[0;34m=\u001b[0m \u001b[0mnp\u001b[0m\u001b[0;34m.\u001b[0m\u001b[0mmath\u001b[0m\u001b[0;34m(\u001b[0m\u001b[0;34m[\u001b[0m\u001b[0;34m[\u001b[0m\u001b[0;36m1\u001b[0m\u001b[0;34m,\u001b[0m \u001b[0;36m0\u001b[0m\u001b[0;34m]\u001b[0m\u001b[0;34m,\u001b[0m \u001b[0;34m[\u001b[0m\u001b[0;36m0\u001b[0m\u001b[0;34m,\u001b[0m \u001b[0;36m1\u001b[0m\u001b[0;34m]\u001b[0m\u001b[0;34m]\u001b[0m\u001b[0;34m)\u001b[0m\u001b[0;34m\u001b[0m\u001b[0;34m\u001b[0m\u001b[0m\n\u001b[0m\u001b[1;32m      6\u001b[0m \u001b[0;32mfor\u001b[0m \u001b[0mi\u001b[0m \u001b[0;32min\u001b[0m \u001b[0mrange\u001b[0m\u001b[0;34m(\u001b[0m\u001b[0mlen\u001b[0m\u001b[0;34m(\u001b[0m\u001b[0mc\u001b[0m\u001b[0;34m)\u001b[0m\u001b[0;34m)\u001b[0m\u001b[0;34m:\u001b[0m\u001b[0;34m\u001b[0m\u001b[0;34m\u001b[0m\u001b[0m\n\u001b[1;32m      7\u001b[0m     \u001b[0mci\u001b[0m \u001b[0;34m=\u001b[0m \u001b[0mnp\u001b[0m\u001b[0;34m.\u001b[0m\u001b[0mmat\u001b[0m\u001b[0;34m(\u001b[0m\u001b[0;34m[\u001b[0m\u001b[0;34m[\u001b[0m\u001b[0mc\u001b[0m\u001b[0;34m[\u001b[0m\u001b[0mi\u001b[0m\u001b[0;34m]\u001b[0m\u001b[0;34m,\u001b[0m \u001b[0;36m1\u001b[0m\u001b[0;34m]\u001b[0m\u001b[0;34m,\u001b[0m \u001b[0;34m[\u001b[0m\u001b[0;36m1\u001b[0m\u001b[0;34m,\u001b[0m \u001b[0;36m0\u001b[0m\u001b[0;34m]\u001b[0m\u001b[0;34m]\u001b[0m\u001b[0;34m)\u001b[0m\u001b[0;34m\u001b[0m\u001b[0;34m\u001b[0m\u001b[0m\n",
            "\u001b[0;32m/usr/local/lib/python3.11/dist-packages/numpy/__init__.py\u001b[0m in \u001b[0;36m__getattr__\u001b[0;34m(attr)\u001b[0m\n\u001b[1;32m    408\u001b[0m             \u001b[0;32mreturn\u001b[0m \u001b[0mchar\u001b[0m\u001b[0;34m.\u001b[0m\u001b[0mchararray\u001b[0m\u001b[0;34m\u001b[0m\u001b[0;34m\u001b[0m\u001b[0m\n\u001b[1;32m    409\u001b[0m \u001b[0;34m\u001b[0m\u001b[0m\n\u001b[0;32m--> 410\u001b[0;31m         raise AttributeError(\"module {!r} has no attribute \"\n\u001b[0m\u001b[1;32m    411\u001b[0m                              \"{!r}\".format(__name__, attr))\n\u001b[1;32m    412\u001b[0m \u001b[0;34m\u001b[0m\u001b[0m\n",
            "\u001b[0;31mAttributeError\u001b[0m: module 'numpy' has no attribute 'math'"
          ]
        }
      ]
    },
    {
      "cell_type": "code",
      "source": [
        "# Bài 3.2\n",
        "import numpy as np\n",
        "X = np.array([\n",
        "    [1, 1],\n",
        "    [1, 2],\n",
        "    [1, 3],\n",
        "    [1, 4],\n",
        "    [1, 5]\n",
        "])\n",
        "\n",
        "Y = np.array([\n",
        "    [1],\n",
        "    [2],\n",
        "    [4],\n",
        "    [4],\n",
        "    [6]\n",
        "])\n",
        "\n",
        "\n",
        "XT = X.T\n",
        "A1 = np.linalg.inv(XT.dot(X))\n",
        "A2 = XT.dot(Y)\n",
        "A = A1.dot(A2)\n",
        "\n",
        "print(\"Hệ số đường thẳng gần đúng nhất:\")\n",
        "print(f\"Y = {A[0,0]:.4f} + {A[1,0]:.4f} * X\")\n",
        "Y_pred = X.dot(A)\n",
        "\n",
        "errors = (Y - Y_pred)**2\n",
        "sum_error = np.sum(errors)\n",
        "\n",
        "print(f\"Sai số tổng bình phương: {sum_error:.4f}\")\n"
      ],
      "metadata": {
        "colab": {
          "base_uri": "https://localhost:8080/"
        },
        "id": "owI_xZMbKeC4",
        "outputId": "72e34dba-829a-43c6-ebdb-232faf61520e"
      },
      "execution_count": 6,
      "outputs": [
        {
          "output_type": "stream",
          "name": "stdout",
          "text": [
            "Hệ số đường thẳng gần đúng nhất:\n",
            "Y = -0.2000 + 1.2000 * X\n",
            "Sai số tổng bình phương: 0.8000\n"
          ]
        }
      ]
    },
    {
      "cell_type": "markdown",
      "source": [
        "Bài Tập Về nhà\n"
      ],
      "metadata": {
        "id": "VXzm4BxnLQ6y"
      }
    },
    {
      "cell_type": "code",
      "source": [
        "# Bài 1\n",
        "import numpy as np\n",
        "\n",
        "def bpcuctieu(a):\n",
        "    b = []\n",
        "    o1 = []\n",
        "    for i in range(len(a)):\n",
        "        o1.append(1.0)\n",
        "        b.append(i * 1.0)\n",
        "    x = np.array([o1, b])\n",
        "    u = np.dot(x, x.T)\n",
        "    u_1 = np.linalg.inv(u)\n",
        "    v = np.dot(u_1, x)\n",
        "    y = np.array(a)\n",
        "    A = np.dot(v, y)\n",
        "    return A\n",
        "dulieu = [10.0, 8, 7, 5, 2]\n",
        "\n",
        "A = bpcuctieu(dulieu)\n",
        "print(f\"Phương trình tuyến tính gần đúng nhất: Y = {A[0]:.4f} + {A[1]:.4f} * X\")\n",
        "\n",
        "X_test = np.array([1.0, 0.0])\n",
        "Y0 = np.dot(A, X_test)\n",
        "X_test = np.array([1.0, 4.0])\n",
        "Y4 = np.dot(A, X_test)\n",
        "\n",
        "print(f\"Dự đoán tại X=0: {Y0:.2f}\")\n",
        "print(f\"Dự đoán tại X=4: {Y4:.2f}\")\n"
      ],
      "metadata": {
        "colab": {
          "base_uri": "https://localhost:8080/"
        },
        "id": "tlV9WOpoLTZz",
        "outputId": "f1f4549f-26aa-46a6-be9d-9d288d447f21"
      },
      "execution_count": 7,
      "outputs": [
        {
          "output_type": "stream",
          "name": "stdout",
          "text": [
            "Phương trình tuyến tính gần đúng nhất: Y = 10.2000 + -1.9000 * X\n",
            "Dự đoán tại X=0: 10.20\n",
            "Dự đoán tại X=4: 2.60\n"
          ]
        }
      ]
    }
  ]
}