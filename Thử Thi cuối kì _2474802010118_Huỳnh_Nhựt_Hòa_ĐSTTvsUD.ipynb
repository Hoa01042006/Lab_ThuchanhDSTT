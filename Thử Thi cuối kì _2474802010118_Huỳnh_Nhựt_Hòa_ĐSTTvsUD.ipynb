{
  "nbformat": 4,
  "nbformat_minor": 0,
  "metadata": {
    "colab": {
      "provenance": []
    },
    "kernelspec": {
      "name": "python3",
      "display_name": "Python 3"
    },
    "language_info": {
      "name": "python"
    }
  },
  "cells": [
    {
      "cell_type": "code",
      "execution_count": 8,
      "metadata": {
        "colab": {
          "base_uri": "https://localhost:8080/"
        },
        "id": "iB97k7pnk7Ap",
        "outputId": "2b9672a9-d76a-4153-b0c2-f65e8044bb8f"
      },
      "outputs": [
        {
          "output_type": "stream",
          "name": "stdout",
          "text": [
            "a) A + B = [2 3 1 6]\n",
            "   2A + 3B = [ 3 11  2 14]\n",
            "b) A . B = -5\n",
            "   Góc giữa A và B (độ) = 99.594\n",
            "c) C * C^T =\n",
            " [[14 -8 13]\n",
            " [-8 21 -2]\n",
            " [13 -2 29]]\n"
          ]
        }
      ],
      "source": [
        "# Bài 1\n",
        "import numpy as np\n",
        "from numpy.linalg import norm\n",
        "A = np.array([3, -2, 1, 4])\n",
        "B = np.array([-1, 5, 0, 2])\n",
        "C = np.array([\n",
        "    [2, -1, 3],\n",
        "    [1, 4, -2],\n",
        "    [0, 2, 5]\n",
        "])\n",
        "\n",
        "# a) Tính A + B và 2A + 3B\n",
        "tong = A + B\n",
        "tich_vo_huong = 2 * A + 3 * B\n",
        "print(\"a) A + B =\", tong)\n",
        "print(\"   2A + 3B =\", tich_vo_huong)\n",
        "\n",
        "# b) Tích vô hướng và góc giữa 2 vector\n",
        "dot_product = np.dot(A, B)\n",
        "cos_theta = dot_product / (norm(A) * norm(B))\n",
        "angle_rad = np.arccos(cos_theta)\n",
        "angle_deg = np.degrees(angle_rad)\n",
        "print(\"b) A . B =\", dot_product)\n",
        "print(\"   Góc giữa A và B (độ) =\", round(angle_deg, 3))\n",
        "\n",
        "# c) Tính tích C * C^T\n",
        "CCT = np.dot(C, C.T)\n",
        "print(\"c) C * C^T =\\n\", CCT)\n"
      ]
    },
    {
      "cell_type": "code",
      "source": [
        "# Bài 2\n",
        "from numpy.linalg import det, matrix_rank\n",
        "M = np.array([\n",
        "    [2, -1, 3, 0],\n",
        "    [1, 4, -2, 5],\n",
        "    [0, 2, 6, -3],\n",
        "    [-1, 0, 1, 4]\n",
        "])\n",
        "N = np.array([\n",
        "    [1, 3, -2, 0],\n",
        "    [4, -1, 5, 2],\n",
        "    [0, 2, 3, -1],\n",
        "    [-3, 1, 0, 4]\n",
        "])\n",
        "\n",
        "# a) Tính M x N\n",
        "product = np.dot(M, N)\n",
        "print(\"a) M x N =\\n\", product)\n",
        "\n",
        "# b) Định thức ma trận M\n",
        "det_M = det(M)\n",
        "print(\"b) Định thức của M =\", round(det_M, 3))\n",
        "if det_M == 0:\n",
        "    print(\"   => Ma trận M không khả nghịch\")\n",
        "else:\n",
        "    print(\"   => Ma trận M khả nghịch\")\n",
        "\n",
        "# c) Tính hạng của N\n",
        "rank_N = matrix_rank(N)\n",
        "print(\"c) Hạng của ma trận N =\", rank_N)\n"
      ],
      "metadata": {
        "colab": {
          "base_uri": "https://localhost:8080/"
        },
        "id": "k2OKGBvjlrEf",
        "outputId": "e710a2a5-179b-4536-87b4-1c2333d40215"
      },
      "execution_count": 7,
      "outputs": [
        {
          "output_type": "stream",
          "name": "stdout",
          "text": [
            "a) M x N =\n",
            " [[ -2  13   0  -5]\n",
            " [  2   0  12  30]\n",
            " [ 17   7  28 -14]\n",
            " [-13   3   5  15]]\n",
            "b) Định thức của M = 409.0\n",
            "   => Ma trận M khả nghịch\n",
            "c) Hạng của ma trận N = 4\n"
          ]
        }
      ]
    },
    {
      "cell_type": "code",
      "source": [
        "# Bài 3\n",
        "from numpy.linalg import inv, solve\n",
        "P = np.array([\n",
        "    [3, -1, 0, 2],\n",
        "    [1, 4, -2, 0],\n",
        "    [0, 1, 5, -1],\n",
        "    [2, 0, 1, 3]\n",
        "])\n",
        "b = np.array([6, 8, 3, 7])\n",
        "\n",
        "# a) Tìm ma trận nghịch đảo\n",
        "try:\n",
        "    P_inv = inv(P)\n",
        "    print(\"a) Ma trận nghịch đảo của P:\\n\", P_inv)\n",
        "\n",
        "    # b) Giải hệ phương trình\n",
        "    x = solve(P, b)\n",
        "    print(\"b) Nghiệm của hệ phương trình là:\\n\", x)\n",
        "\n",
        "    # c) Kiểm tra lại\n",
        "    check = np.dot(P, x)\n",
        "    print(\"c) Kiểm tra P * x:\\n\", check)\n",
        "    print(\"   Vector hằng số b:\\n\", b)\n",
        "\n",
        "except np.linalg.LinAlgError:\n",
        "    print(\"a) Ma trận P không khả nghịch\")\n"
      ],
      "metadata": {
        "colab": {
          "base_uri": "https://localhost:8080/"
        },
        "id": "im9jmGbglwtz",
        "outputId": "00db9572-3d2f-4e87-b5ff-ded747069f07"
      },
      "execution_count": 6,
      "outputs": [
        {
          "output_type": "stream",
          "name": "stdout",
          "text": [
            "a) Ma trận nghịch đảo của P:\n",
            " [[ 0.5         0.1         0.1        -0.3       ]\n",
            " [-0.14285714  0.2         0.05714286  0.11428571]\n",
            " [-0.03571429 -0.05        0.16428571  0.07857143]\n",
            " [-0.32142857 -0.05       -0.12142857  0.50714286]]\n",
            "b) Nghiệm của hệ phương trình là:\n",
            " [2.         1.71428571 0.42857143 0.85714286]\n",
            "c) Kiểm tra P * x:\n",
            " [6. 8. 3. 7.]\n",
            "   Vector hằng số b:\n",
            " [6 8 3 7]\n"
          ]
        }
      ]
    },
    {
      "cell_type": "code",
      "source": [
        "# Bài 4\n",
        "import numpy as np\n",
        "Q = np.array([\n",
        "    [5, -2, 1],\n",
        "    [0, 3, -1],\n",
        "    [2, 0, 4]\n",
        "])\n",
        "\n",
        "# a) Tính giá trị riêng\n",
        "eigenvalues, eigenvectors = np.linalg.eig(Q)\n",
        "print(\"a) Giá trị riêng của Q:\")\n",
        "print(eigenvalues)\n",
        "\n",
        "# b) Vector riêng tương ứng\n",
        "print(\"\\nb) Vector riêng tương ứng:\")\n",
        "for i, vec in enumerate(eigenvectors.T):\n",
        "    print(f\"Vector riêng {i+1}:\\n\", vec)\n",
        "\n",
        "# c) Chuẩn hóa vector riêng (độ dài = 1)\n",
        "print(\"\\nc) Vector riêng sau khi chuẩn hóa:\")\n",
        "normalized_vectors = []\n",
        "for i, vec in enumerate(eigenvectors.T):\n",
        "    norm_vec = vec / np.linalg.norm(vec)\n",
        "    normalized_vectors.append(norm_vec)\n",
        "    print(f\"Vector riêng {i+1} (chuẩn hóa):\\n\", norm_vec)\n"
      ],
      "metadata": {
        "colab": {
          "base_uri": "https://localhost:8080/"
        },
        "id": "nKJWtXu9mGej",
        "outputId": "c822e51c-2cd3-48ba-9f88-a8e41276bc6a"
      },
      "execution_count": 5,
      "outputs": [
        {
          "output_type": "stream",
          "name": "stdout",
          "text": [
            "a) Giá trị riêng của Q:\n",
            "[6.3553014+0.j         2.8223493+1.07730381j 2.8223493-1.07730381j]\n",
            "\n",
            "b) Vector riêng tương ứng:\n",
            "Vector riêng 1:\n",
            " [ 0.74846013+0.j -0.18941773+0.j  0.63555359+0.j]\n",
            "Vector riêng 2:\n",
            " [-0.37423006+0.34234215j  0.09470887+0.57433055j  0.63555359+0.j        ]\n",
            "Vector riêng 3:\n",
            " [-0.37423006-0.34234215j  0.09470887-0.57433055j  0.63555359-0.j        ]\n",
            "\n",
            "c) Vector riêng sau khi chuẩn hóa:\n",
            "Vector riêng 1 (chuẩn hóa):\n",
            " [ 0.74846013+0.j -0.18941773+0.j  0.63555359+0.j]\n",
            "Vector riêng 2 (chuẩn hóa):\n",
            " [-0.37423006+0.34234215j  0.09470887+0.57433055j  0.63555359+0.j        ]\n",
            "Vector riêng 3 (chuẩn hóa):\n",
            " [-0.37423006-0.34234215j  0.09470887-0.57433055j  0.63555359-0.j        ]\n"
          ]
        }
      ]
    },
    {
      "cell_type": "code",
      "source": [
        "# Bài 5\n",
        "R = np.array([\n",
        "    [4, -1, 2],\n",
        "    [1, 3, -2],\n",
        "    [0, 2, 5]\n",
        "])\n",
        "b = np.array([12, 5, 9])\n",
        "\n",
        "# a) Giải hệ phương trình Rx = b\n",
        "x = np.linalg.solve(R, b)\n",
        "print(\"a) Nghiệm của hệ phương trình Rx = b là:\\n\", x)\n",
        "\n",
        "# b) Kiểm tra khả nghịch và giải lại bằng nghịch đảo\n",
        "try:\n",
        "    R_inv = np.linalg.inv(R)\n",
        "    x2 = np.dot(R_inv, b)\n",
        "    print(\"\\nb) Ma trận R khả nghịch.\")\n",
        "    print(\"   Nghiệm bằng R^-1 * b là:\\n\", x2)\n",
        "    print(\"   Hai nghiệm có giống nhau không?\", np.allclose(x, x2))\n",
        "except np.linalg.LinAlgError:\n",
        "    print(\"\\nb) Ma trận R không khả nghịch.\")\n",
        "\n",
        "# c) Tính chuẩn Frobenius\n",
        "fro_norm = np.linalg.norm(R, ord='fro')\n",
        "print(\"\\nc) Chuẩn Frobenius của R =\", round(fro_norm, 3))\n"
      ],
      "metadata": {
        "colab": {
          "base_uri": "https://localhost:8080/"
        },
        "id": "iwkjILAemTeb",
        "outputId": "4178d075-30b7-4c78-9464-cbe98978415c"
      },
      "execution_count": 9,
      "outputs": [
        {
          "output_type": "stream",
          "name": "stdout",
          "text": [
            "a) Nghiệm của hệ phương trình Rx = b là:\n",
            " [2.78823529 1.52941176 1.18823529]\n",
            "\n",
            "b) Ma trận R khả nghịch.\n",
            "   Nghiệm bằng R^-1 * b là:\n",
            " [2.78823529 1.52941176 1.18823529]\n",
            "   Hai nghiệm có giống nhau không? True\n",
            "\n",
            "c) Chuẩn Frobenius của R = 8.0\n"
          ]
        }
      ]
    }
  ]
}