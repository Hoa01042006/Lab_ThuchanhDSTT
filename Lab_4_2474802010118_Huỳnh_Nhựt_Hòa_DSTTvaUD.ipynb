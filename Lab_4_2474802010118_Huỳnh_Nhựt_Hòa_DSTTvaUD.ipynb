{
  "nbformat": 4,
  "nbformat_minor": 0,
  "metadata": {
    "colab": {
      "provenance": []
    },
    "kernelspec": {
      "name": "python3",
      "display_name": "Python 3"
    },
    "language_info": {
      "name": "python"
    }
  },
  "cells": [
    {
      "cell_type": "code",
      "execution_count": null,
      "metadata": {
        "colab": {
          "base_uri": "https://localhost:8080/"
        },
        "id": "2-MSQco0TC_Q",
        "outputId": "f8ec4378-8a9a-47f5-f87d-ca40afa6b33e"
      },
      "outputs": [
        {
          "output_type": "execute_result",
          "data": {
            "text/plain": [
              "-1"
            ]
          },
          "metadata": {},
          "execution_count": 6
        }
      ],
      "source": [
        "# Bài 1\n",
        "import numpy as np\n",
        "n = 4\n",
        "X = np.array(range(1,n+1))\n",
        "sigma = np.array([4,3,2,1])\n",
        "def sgn_by_def(sigma):\n",
        "    ket_qua = 1.0\n",
        "    for i in range(len(X)-1):\n",
        "            for j in range (i+1,len(X)):\n",
        "                    ket_qua = ket_qua * ((X[i]-X[j])/(sigma[i]-sigma[j]))\n",
        "    return int(ket_qua)\n",
        "sigma =np.array([2,1,3,4])\n",
        "sgn_by_def(sigma)"
      ]
    },
    {
      "cell_type": "code",
      "source": [
        "from itertools import permutations\n",
        "import numpy as np\n",
        "n = 3\n",
        "X = [i for i in range(1, n + 1)]\n",
        "Sn = list(permutations(X))\n",
        "print(\"Tập hoán vị Sn:\")\n",
        "print(Sn)\n",
        "det = 0\n",
        "def sgn(permutation):\n",
        "    count = 0\n",
        "    perm = list(permutation)\n",
        "    for i in range(len(perm)):\n",
        "        for j in range(i + 1, len(perm)):\n",
        "            if perm[i] > perm[j]:\n",
        "                count += 1\n",
        "    return (-1) ** count\n",
        "A = np.array([\n",
        "    [2, 1, 3],\n",
        "    [1, 0, 2],\n",
        "    [4, 1, 1]\n",
        "])\n",
        "print(\"Ma trận A:\")\n",
        "print(A)\n",
        "for p in Sn:\n",
        "    sign = sgn(p)\n",
        "    product = 1\n",
        "    for i in range(n):\n",
        "        product *= A[i][p[i] - 1]\n",
        "    det += sign * product\n",
        "print(\"Giá trị định thức của ma trận A là:\", det)\n",
        "print(\"Định thức tính bằng numpy:\", round(np.linalg.det(A)))"
      ],
      "metadata": {
        "colab": {
          "base_uri": "https://localhost:8080/"
        },
        "id": "Wxs2mnT0Wwbm",
        "outputId": "4a0a44f6-02d6-45f6-f603-f70d87279396"
      },
      "execution_count": null,
      "outputs": [
        {
          "output_type": "stream",
          "name": "stdout",
          "text": [
            "Tập hoán vị Sn:\n",
            "[(1, 2, 3), (1, 3, 2), (2, 1, 3), (2, 3, 1), (3, 1, 2), (3, 2, 1)]\n",
            "Ma trận A:\n",
            "[[2 1 3]\n",
            " [1 0 2]\n",
            " [4 1 1]]\n",
            "Giá trị định thức của ma trận A là: 6\n",
            "Định thức tính bằng numpy: 6\n"
          ]
        }
      ]
    },
    {
      "cell_type": "code",
      "source": [
        "# Đoạn code 1\n",
        "def sgn_by_def(permutation):\n",
        "    count = 0\n",
        "    perm = list(permutation)\n",
        "    for i in range(len(perm)):\n",
        "        for j in range(i + 1, len(perm)):\n",
        "            if perm[i] > perm[j]:\n",
        "                count += 1\n",
        "    return (-1) ** count\n",
        "def phatsinh_dinhthuc(n):\n",
        "  X = []\n",
        "  for i in range(1,n+1):\n",
        "      X.append(i)\n",
        "  Sn = list(permutations(X))\n",
        "  dinhthuc = \"\"\n",
        "  for sn in Sn:\n",
        "        sigma = np.array([1])\n",
        "        sigma.resize([n])\n",
        "        product = \"\"\n",
        "        for i in range(1,n+1):\n",
        "                sigma[sn.index(i)] = i\n",
        "                product = product + \"a\"+ str(i)+str(sn.index(i)+1)\n",
        "        dau = sgn_by_def(sigma)\n",
        "        if dau != 1:\n",
        "          product = \"-\" + product\n",
        "        else:\n",
        "          product = \"+\" + product\n",
        "        dinhthuc = dinhthuc + product\n",
        "        return  dinhthuc\n",
        "\n",
        "print(\"Định thức dạng ký hiệu với n=2:\")\n",
        "print(phatsinh_dinhthuc(2))\n",
        "\n",
        "print(\"Định thức dạng ký hiệu với n=3:\")\n",
        "print(phatsinh_dinhthuc(3))\n"
      ],
      "metadata": {
        "colab": {
          "base_uri": "https://localhost:8080/"
        },
        "id": "xAVcbjZSa25A",
        "outputId": "45424c9c-66bf-4582-add5-1322e2e696f7"
      },
      "execution_count": null,
      "outputs": [
        {
          "output_type": "stream",
          "name": "stdout",
          "text": [
            "Định thức dạng ký hiệu với n=2:\n",
            "+a11a22\n",
            "Định thức dạng ký hiệu với n=3:\n",
            "+a11a22a33\n"
          ]
        }
      ]
    },
    {
      "cell_type": "code",
      "source": [
        "# Đoạn code 2\n",
        "def tinhtoan_dinhthuc(A) :\n",
        "    X=[]\n",
        "    import math  #<-- bổ sung để sử dụng sqrt\n",
        "    n = int (math.sqrt (A.size) )#<-- với ma trận vuống, kích thước là căn sở\n",
        "    for i in range (1, n+1) :\n",
        "              X.append (1)\n",
        "    Sn = list(permutations (X) )\n",
        "    dinhthuc = 0\n",
        "    # ban đầu giá trị định thức là 0\n",
        "    for sn in Sn:\n",
        "        sigma = np.array([1])\n",
        "        sigma. resize ([n])\n",
        "        product = 1     # đặt giá trị cho tích ban đầu là 1\n",
        "        for i in range (1,n+1) :\n",
        "                sigma [sn. index (i)] = i\n",
        "                product = product * A[i-1] [sn. index (i)] # luu ý chi sô #print (A[1-1] (sn. index (i)])\n",
        "        dau = sgn_by_def (sigma)\n",
        "        if dau != 1:\n",
        "            product = product * (-1)\n",
        "        # không xét trường hợp dẫu =1\n",
        "        #khi dầu - -1 thì nhân với -1\n",
        "        dinhthuc = dinhthuc + product\n",
        "        return dinhthuc"
      ],
      "metadata": {
        "id": "rK5nx5PGhhQV"
      },
      "execution_count": null,
      "outputs": []
    },
    {
      "cell_type": "code",
      "source": [
        "# Hệ hai phương trình tuyến tính bậc 1:\n",
        "import numpy as np\n",
        "from scipy import linalg\n",
        "\n",
        "A = np.array([[4, -2], [3, -5]])\n",
        "A1 = np.array([[10, -2], [11, -5]])\n",
        "A2 = np.array([[4, 10], [3, 11]])\n",
        "\n",
        "def tinhtoan_dinhthuc(A, A1, A2):\n",
        "    detA = linalg.det(A)\n",
        "    detA1 = linalg.det(A1)\n",
        "    detA2 = linalg.det(A2)\n",
        "    return detA, detA1, detA2\n",
        "\n",
        "detA, detA1, detA2 = tinhtoan_dinhthuc(A, A1, A2)\n",
        "print(\"detA =\", detA)\n",
        "print(\"detA1 =\", detA1)\n",
        "print(\"detA2 =\", detA2)\n",
        "\n",
        "if detA != 0:\n",
        "    x1 = detA1 / detA\n",
        "    x2 = detA2 / detA\n",
        "    print(\"Hai nghiệm của phương trình là: \", x1, x2)\n",
        "else:\n",
        "    print(\"Hệ phương trình vô nghiệm hoặc vô số nghiệm.\")\n"
      ],
      "metadata": {
        "colab": {
          "base_uri": "https://localhost:8080/"
        },
        "id": "XGYY1pM4xhp1",
        "outputId": "9d9b0815-6087-48f3-9565-4d7df84437af"
      },
      "execution_count": 1,
      "outputs": [
        {
          "output_type": "stream",
          "name": "stdout",
          "text": [
            "detA = -14.0\n",
            "detA1 = -28.0\n",
            "detA2 = 14.000000000000004\n",
            "Hai nghiệm của phương trình là:  2.0 -1.0000000000000002\n"
          ]
        }
      ]
    },
    {
      "cell_type": "code",
      "source": [
        "# Ứng dụng 1\n",
        "import numpy as np\n",
        "points = np.array([\n",
        "    [1181128.25, 603263.70],\n",
        "    [1181136.18, 603266.68],\n",
        "    [1181130.97, 603279.69],\n",
        "    [1181125.77, 603281.91],\n",
        "    [1181122.06, 603280.42]\n",
        "])\n",
        "\n",
        "def tinh_dientich_da_giac(points):\n",
        "    n = len(points)\n",
        "    S = 0\n",
        "    for i in range(n):\n",
        "        x_i, y_i = points[i]\n",
        "        x_next, y_next = points[(i + 1) % n]\n",
        "        S += (x_i * y_next) - (x_next * y_i)\n",
        "    return abs(S) / 2\n",
        "\n",
        "dientich = tinh_dientich_da_giac(points)\n",
        "print(\"Diện tích đa giác là:\", dientich, \"m²\")\n"
      ],
      "metadata": {
        "colab": {
          "base_uri": "https://localhost:8080/"
        },
        "id": "vPoRlmtrzFzG",
        "outputId": "43cb0dbc-f725-4af9-a46e-d1157a2ca49f"
      },
      "execution_count": 2,
      "outputs": [
        {
          "output_type": "stream",
          "name": "stdout",
          "text": [
            "Diện tích đa giác là: 139.56793212890625 m²\n"
          ]
        }
      ]
    },
    {
      "cell_type": "code",
      "source": [
        "# Ứng dụng 2\n",
        "from sympy import Matrix\n",
        "\n",
        "M = Matrix([\n",
        "    [0, 4, 1, 1],\n",
        "    [4, 0, 0, 1],\n",
        "    [3, 5, 2, 1],\n",
        "    [2, 2, 5, 1]\n",
        "])\n",
        "\n",
        "detM = M.det()\n",
        "V = abs(1/6 * detM)\n",
        "\n",
        "print(\"Định thức của ma trận là:\", detM)\n",
        "print(\"Thể tích của tứ diện là:\", V)\n"
      ],
      "metadata": {
        "colab": {
          "base_uri": "https://localhost:8080/"
        },
        "id": "L-rozIqL0W_X",
        "outputId": "6b1adab6-0524-43fa-edbb-21201fbbeb79"
      },
      "execution_count": 3,
      "outputs": [
        {
          "output_type": "stream",
          "name": "stdout",
          "text": [
            "Định thức của ma trận là: -72\n",
            "Thể tích của tứ diện là: 12.0000000000000\n"
          ]
        }
      ]
    },
    {
      "cell_type": "code",
      "source": [
        "# Ứng dụng 3\n",
        "from sympy import Matrix\n",
        "\n",
        "M = Matrix([\n",
        "    [0, 4, 1, 1],\n",
        "    [4, 0, 0, 1],\n",
        "    [3, 5, 2, 1],\n",
        "    [2, 2, 5, 1]\n",
        "])\n",
        "\n",
        "det = M.det()\n",
        "print(f\"Định thức của ma trận: {det}\")\n",
        "if det == 0:\n",
        "    print(\"Bốn điểm nằm trên cùng một mặt phẳng.\")\n",
        "else:\n",
        "    print(\"Bốn điểm không nằm trên cùng một mặt phẳng.\")\n"
      ],
      "metadata": {
        "colab": {
          "base_uri": "https://localhost:8080/"
        },
        "id": "sXk3rzOY1Bch",
        "outputId": "3cc2ec81-f68e-4692-fb2a-ef5b338bf307"
      },
      "execution_count": 4,
      "outputs": [
        {
          "output_type": "stream",
          "name": "stdout",
          "text": [
            "Định thức của ma trận: -72\n",
            "Bốn điểm không nằm trên cùng một mặt phẳng.\n"
          ]
        }
      ]
    },
    {
      "cell_type": "code",
      "source": [
        "# Ứng dụng 4\n",
        "from sympy import symbols, Matrix\n",
        "\n",
        "x, y, z = symbols('x y z')\n",
        "MP = Matrix([\n",
        "    [x, y, z, 1],\n",
        "    [-1, 3, 2, 1],\n",
        "    [0, 1, 0, 1],\n",
        "    [-2, 0, 1, 1]\n",
        "])\n",
        "\n",
        "plane_eq = MP.det()\n",
        "print(f\"Phương trình mặt phẳng: {plane_eq} = 0\")\n"
      ],
      "metadata": {
        "colab": {
          "base_uri": "https://localhost:8080/"
        },
        "id": "u9KHrhyx1IVC",
        "outputId": "100083bb-b77c-45cc-909f-f91c5974a0e1"
      },
      "execution_count": 5,
      "outputs": [
        {
          "output_type": "stream",
          "name": "stdout",
          "text": [
            "Phương trình mặt phẳng: -4*x + 3*y - 5*z - 3 = 0\n"
          ]
        }
      ]
    },
    {
      "cell_type": "code",
      "source": [
        "# Bài toán ứng dụng 3: Tính quỹ đạo của hành tinh/vệ tinh\n",
        "from sympy import Matrix, symbols\n",
        "\n",
        "x1, y1 = symbols('x1 y1')\n",
        "x2, y2 = symbols('x2 y2')\n",
        "x3, y3 = symbols('x3 y3')\n",
        "x4, y4 = symbols('x4 y4')\n",
        "x5, y5 = symbols('x5 y5')\n",
        "\n",
        "M = Matrix([\n",
        "    [x1**2, x1*y1, y1**2, x1, y1, 1],\n",
        "    [x2**2, x2*y2, y2**2, x2, y2, 1],\n",
        "    [x3**2, x3*y3, y3**2, x3, y3, 1],\n",
        "    [x4**2, x4*y4, y4**2, x4, y4, 1],\n",
        "    [x5**2, x5*y5, y5**2, x5, y5, 1],\n",
        "])\n",
        "\n",
        "print(\"Ma trận cho hệ phương trình:\")\n",
        "print(M)\n",
        "M_numeric = Matrix([\n",
        "    [1**2, 1*2, 2**2, 1, 2, 1],\n",
        "    [2**2, 2*3, 3**2, 2, 3, 1],\n",
        "    [3**2, 3*1, 1**2, 3, 1, 1],\n",
        "    [4**2, 4*5, 5**2, 4, 5, 1],\n",
        "    [5**2, 5*4, 4**2, 5, 4, 1],\n",
        "])\n",
        "\n",
        "print(\"\\nMa trận số:\")\n",
        "print(M_numeric)\n",
        "det = M_numeric.det()\n",
        "print(f\"\\nĐịnh thức của ma trận: {det}\")\n"
      ],
      "metadata": {
        "colab": {
          "base_uri": "https://localhost:8080/",
          "height": 425
        },
        "id": "mOpxQHIe1iKR",
        "outputId": "36430b9b-7672-4635-b806-f92cb2dce8cb"
      },
      "execution_count": 6,
      "outputs": [
        {
          "output_type": "stream",
          "name": "stdout",
          "text": [
            "Ma trận cho hệ phương trình:\n",
            "Matrix([[x1**2, x1*y1, y1**2, x1, y1, 1], [x2**2, x2*y2, y2**2, x2, y2, 1], [x3**2, x3*y3, y3**2, x3, y3, 1], [x4**2, x4*y4, y4**2, x4, y4, 1], [x5**2, x5*y5, y5**2, x5, y5, 1]])\n",
            "\n",
            "Ma trận số:\n",
            "Matrix([[1, 2, 4, 1, 2, 1], [4, 6, 9, 2, 3, 1], [9, 3, 1, 3, 1, 1], [16, 20, 25, 4, 5, 1], [25, 20, 16, 5, 4, 1]])\n"
          ]
        },
        {
          "output_type": "error",
          "ename": "NonSquareMatrixError",
          "evalue": "",
          "traceback": [
            "\u001b[0;31m---------------------------------------------------------------------------\u001b[0m",
            "\u001b[0;31mNonSquareMatrixError\u001b[0m                      Traceback (most recent call last)",
            "\u001b[0;32m<ipython-input-6-219101265>\u001b[0m in \u001b[0;36m<cell line: 0>\u001b[0;34m()\u001b[0m\n\u001b[1;32m     28\u001b[0m \u001b[0mprint\u001b[0m\u001b[0;34m(\u001b[0m\u001b[0;34m\"\\nMa trận số:\"\u001b[0m\u001b[0;34m)\u001b[0m\u001b[0;34m\u001b[0m\u001b[0;34m\u001b[0m\u001b[0m\n\u001b[1;32m     29\u001b[0m \u001b[0mprint\u001b[0m\u001b[0;34m(\u001b[0m\u001b[0mM_numeric\u001b[0m\u001b[0;34m)\u001b[0m\u001b[0;34m\u001b[0m\u001b[0;34m\u001b[0m\u001b[0m\n\u001b[0;32m---> 30\u001b[0;31m \u001b[0mdet\u001b[0m \u001b[0;34m=\u001b[0m \u001b[0mM_numeric\u001b[0m\u001b[0;34m.\u001b[0m\u001b[0mdet\u001b[0m\u001b[0;34m(\u001b[0m\u001b[0;34m)\u001b[0m\u001b[0;34m\u001b[0m\u001b[0;34m\u001b[0m\u001b[0m\n\u001b[0m\u001b[1;32m     31\u001b[0m \u001b[0mprint\u001b[0m\u001b[0;34m(\u001b[0m\u001b[0;34mf\"\\nĐịnh thức của ma trận: {det}\"\u001b[0m\u001b[0;34m)\u001b[0m\u001b[0;34m\u001b[0m\u001b[0;34m\u001b[0m\u001b[0m\n",
            "\u001b[0;32m/usr/local/lib/python3.11/dist-packages/sympy/matrices/matrixbase.py\u001b[0m in \u001b[0;36mdet\u001b[0;34m(self, method, iszerofunc)\u001b[0m\n\u001b[1;32m   3078\u001b[0m \u001b[0;34m\u001b[0m\u001b[0m\n\u001b[1;32m   3079\u001b[0m     \u001b[0;32mdef\u001b[0m \u001b[0mdet\u001b[0m\u001b[0;34m(\u001b[0m\u001b[0mself\u001b[0m\u001b[0;34m,\u001b[0m \u001b[0mmethod\u001b[0m\u001b[0;34m=\u001b[0m\u001b[0;34m\"bareiss\"\u001b[0m\u001b[0;34m,\u001b[0m \u001b[0miszerofunc\u001b[0m\u001b[0;34m=\u001b[0m\u001b[0;32mNone\u001b[0m\u001b[0;34m)\u001b[0m\u001b[0;34m:\u001b[0m\u001b[0;34m\u001b[0m\u001b[0;34m\u001b[0m\u001b[0m\n\u001b[0;32m-> 3080\u001b[0;31m         \u001b[0;32mreturn\u001b[0m \u001b[0m_det\u001b[0m\u001b[0;34m(\u001b[0m\u001b[0mself\u001b[0m\u001b[0;34m,\u001b[0m \u001b[0mmethod\u001b[0m\u001b[0;34m=\u001b[0m\u001b[0mmethod\u001b[0m\u001b[0;34m,\u001b[0m \u001b[0miszerofunc\u001b[0m\u001b[0;34m=\u001b[0m\u001b[0miszerofunc\u001b[0m\u001b[0;34m)\u001b[0m\u001b[0;34m\u001b[0m\u001b[0;34m\u001b[0m\u001b[0m\n\u001b[0m\u001b[1;32m   3081\u001b[0m \u001b[0;34m\u001b[0m\u001b[0m\n\u001b[1;32m   3082\u001b[0m     \u001b[0;32mdef\u001b[0m \u001b[0mper\u001b[0m\u001b[0;34m(\u001b[0m\u001b[0mself\u001b[0m\u001b[0;34m)\u001b[0m\u001b[0;34m:\u001b[0m\u001b[0;34m\u001b[0m\u001b[0;34m\u001b[0m\u001b[0m\n",
            "\u001b[0;32m/usr/local/lib/python3.11/dist-packages/sympy/matrices/determinant.py\u001b[0m in \u001b[0;36m_det\u001b[0;34m(M, method, iszerofunc)\u001b[0m\n\u001b[1;32m    696\u001b[0m \u001b[0;34m\u001b[0m\u001b[0m\n\u001b[1;32m    697\u001b[0m     \u001b[0mdets\u001b[0m \u001b[0;34m=\u001b[0m \u001b[0;34m[\u001b[0m\u001b[0;34m]\u001b[0m\u001b[0;34m\u001b[0m\u001b[0;34m\u001b[0m\u001b[0m\n\u001b[0;32m--> 698\u001b[0;31m     \u001b[0;32mfor\u001b[0m \u001b[0mb\u001b[0m \u001b[0;32min\u001b[0m \u001b[0mM\u001b[0m\u001b[0;34m.\u001b[0m\u001b[0mstrongly_connected_components\u001b[0m\u001b[0;34m(\u001b[0m\u001b[0;34m)\u001b[0m\u001b[0;34m:\u001b[0m\u001b[0;34m\u001b[0m\u001b[0;34m\u001b[0m\u001b[0m\n\u001b[0m\u001b[1;32m    699\u001b[0m         \u001b[0;32mif\u001b[0m \u001b[0mmethod\u001b[0m \u001b[0;34m==\u001b[0m \u001b[0;34m\"domain-ge\"\u001b[0m\u001b[0;34m:\u001b[0m \u001b[0;31m# uses DomainMatrix to evaluate determinant\u001b[0m\u001b[0;34m\u001b[0m\u001b[0;34m\u001b[0m\u001b[0m\n\u001b[1;32m    700\u001b[0m             \u001b[0mdet\u001b[0m \u001b[0;34m=\u001b[0m \u001b[0m_det_DOM\u001b[0m\u001b[0;34m(\u001b[0m\u001b[0mM\u001b[0m\u001b[0;34m[\u001b[0m\u001b[0mb\u001b[0m\u001b[0;34m,\u001b[0m \u001b[0mb\u001b[0m\u001b[0;34m]\u001b[0m\u001b[0;34m)\u001b[0m\u001b[0;34m\u001b[0m\u001b[0;34m\u001b[0m\u001b[0m\n",
            "\u001b[0;32m/usr/local/lib/python3.11/dist-packages/sympy/matrices/matrixbase.py\u001b[0m in \u001b[0;36mstrongly_connected_components\u001b[0;34m(self)\u001b[0m\n\u001b[1;32m   5227\u001b[0m \u001b[0;34m\u001b[0m\u001b[0m\n\u001b[1;32m   5228\u001b[0m     \u001b[0;32mdef\u001b[0m \u001b[0mstrongly_connected_components\u001b[0m\u001b[0;34m(\u001b[0m\u001b[0mself\u001b[0m\u001b[0;34m)\u001b[0m\u001b[0;34m:\u001b[0m\u001b[0;34m\u001b[0m\u001b[0;34m\u001b[0m\u001b[0m\n\u001b[0;32m-> 5229\u001b[0;31m         \u001b[0;32mreturn\u001b[0m \u001b[0m_strongly_connected_components\u001b[0m\u001b[0;34m(\u001b[0m\u001b[0mself\u001b[0m\u001b[0;34m)\u001b[0m\u001b[0;34m\u001b[0m\u001b[0;34m\u001b[0m\u001b[0m\n\u001b[0m\u001b[1;32m   5230\u001b[0m \u001b[0;34m\u001b[0m\u001b[0m\n\u001b[1;32m   5231\u001b[0m     \u001b[0;32mdef\u001b[0m \u001b[0mstrongly_connected_components_decomposition\u001b[0m\u001b[0;34m(\u001b[0m\u001b[0mself\u001b[0m\u001b[0;34m,\u001b[0m \u001b[0mlower\u001b[0m\u001b[0;34m=\u001b[0m\u001b[0;32mTrue\u001b[0m\u001b[0;34m)\u001b[0m\u001b[0;34m:\u001b[0m\u001b[0;34m\u001b[0m\u001b[0;34m\u001b[0m\u001b[0m\n",
            "\u001b[0;32m/usr/local/lib/python3.11/dist-packages/sympy/matrices/graph.py\u001b[0m in \u001b[0;36m_strongly_connected_components\u001b[0;34m(M)\u001b[0m\n\u001b[1;32m     63\u001b[0m     \"\"\"\n\u001b[1;32m     64\u001b[0m     \u001b[0;32mif\u001b[0m \u001b[0;32mnot\u001b[0m \u001b[0mM\u001b[0m\u001b[0;34m.\u001b[0m\u001b[0mis_square\u001b[0m\u001b[0;34m:\u001b[0m\u001b[0;34m\u001b[0m\u001b[0;34m\u001b[0m\u001b[0m\n\u001b[0;32m---> 65\u001b[0;31m         \u001b[0;32mraise\u001b[0m \u001b[0mNonSquareMatrixError\u001b[0m\u001b[0;34m\u001b[0m\u001b[0;34m\u001b[0m\u001b[0m\n\u001b[0m\u001b[1;32m     66\u001b[0m \u001b[0;34m\u001b[0m\u001b[0m\n\u001b[1;32m     67\u001b[0m     \u001b[0;31m# RepMatrix uses the more efficient DomainMatrix.scc() method\u001b[0m\u001b[0;34m\u001b[0m\u001b[0;34m\u001b[0m\u001b[0m\n",
            "\u001b[0;31mNonSquareMatrixError\u001b[0m: "
          ]
        }
      ]
    },
    {
      "cell_type": "markdown",
      "source": [
        "BÀI TẬP VỀ NHÀ\n"
      ],
      "metadata": {
        "id": "-Tp4KpLN2BGn"
      }
    },
    {
      "cell_type": "code",
      "source": [
        "# Bài 1\n",
        "from sympy import Matrix\n",
        "A = Matrix([\n",
        "    [1, 2, 3],\n",
        "    [0, 4, 5],\n",
        "    [7, 8, 9]\n",
        "])\n",
        "\n",
        "print(\"Ma trận A:\")\n",
        "print(A)\n",
        "\n",
        "cofactor_matrix = A.cofactor_matrix()\n",
        "print(\"\\nMa trận hệ số kép (Cofactor matrix):\")\n",
        "print(cofactor_matrix)\n",
        "\n",
        "adjoint_matrix = A.adjugate()\n",
        "print(\"\\nMa trận liên hợp (Adjoint matrix):\")\n",
        "print(adjoint_matrix)\n"
      ],
      "metadata": {
        "colab": {
          "base_uri": "https://localhost:8080/"
        },
        "id": "ludYOuZH10Hl",
        "outputId": "30a68b7d-374c-4ffc-97d3-cad7822e24d9"
      },
      "execution_count": 7,
      "outputs": [
        {
          "output_type": "stream",
          "name": "stdout",
          "text": [
            "Ma trận A:\n",
            "Matrix([[1, 2, 3], [0, 4, 5], [7, 8, 9]])\n",
            "\n",
            "Ma trận hệ số kép (Cofactor matrix):\n",
            "Matrix([[-4, 35, -28], [6, -12, 6], [-2, -5, 4]])\n",
            "\n",
            "Ma trận liên hợp (Adjoint matrix):\n",
            "Matrix([[-4, 6, -2], [35, -12, -5], [-28, 6, 4]])\n"
          ]
        }
      ]
    },
    {
      "cell_type": "code",
      "source": [
        "# Bài 2\n",
        "from sympy import symbols, Matrix, Eq, solve\n",
        "\n",
        "A, B, C, D = symbols('A B C D')\n",
        "x1, y1 = 1, 2\n",
        "x2, y2 = 3, 4\n",
        "x3, y3 = 5, 1\n",
        "\n",
        "eq1 = Eq(A*(x1**2 + y1**2) + B*x1 + C*y1 + D, 0)\n",
        "eq2 = Eq(A*(x2**2 + y2**2) + B*x2 + C*y2 + D, 0)\n",
        "eq3 = Eq(A*(x3**2 + y3**2) + B*x3 + C*y3 + D, 0)\n",
        "solution = solve([eq1, eq2, eq3], (A, B, C, D))\n",
        "\n",
        "print(\"Kết quả phương trình đường tròn:\")\n",
        "print(solution)\n"
      ],
      "metadata": {
        "colab": {
          "base_uri": "https://localhost:8080/"
        },
        "id": "QsKFz3Rh2JnC",
        "outputId": "4622aa82-d97a-4339-c975-1438a9d9ed87"
      },
      "execution_count": 8,
      "outputs": [
        {
          "output_type": "stream",
          "name": "stdout",
          "text": [
            "Kết quả phương trình đường tròn:\n",
            "{A: 5*D/44, B: -31*D/44, C: -19*D/44}\n"
          ]
        }
      ]
    }
  ]
}